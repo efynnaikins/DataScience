{
 "cells": [
  {
   "cell_type": "code",
   "execution_count": null,
   "metadata": {},
   "outputs": [],
   "source": [
    "# Dependencies\n",
    "import pandas as pd\n",
    "import numpy as np"
   ]
  },
  {
   "cell_type": "code",
   "execution_count": null,
   "metadata": {},
   "outputs": [],
   "source": [
    "# Save file path to variable\n",
    "pokemon = \"C:/Users/cuong/Downloads/Pokemon.csv\""
   ]
  },
  {
   "cell_type": "code",
   "execution_count": null,
   "metadata": {},
   "outputs": [],
   "source": [
    "# Read with Pandas\n",
    "pokemon_pd = pd.read_csv(pokemon)\n",
    "pokemon_pd.head()"
   ]
  },
  {
   "cell_type": "code",
   "execution_count": null,
   "metadata": {},
   "outputs": [],
   "source": [
    "# Create new table\n",
    "pokemon_type = pokemon_pd[[\"Type 1\", \"HP\", \"Attack\",\n",
    "                           \"Defense\", \"Sp. Atk\", \"Sp. Def\", \"Speed\"]]\n",
    "pokemon_type.head()"
   ]
  },
  {
   "cell_type": "code",
   "execution_count": null,
   "metadata": {},
   "outputs": [],
   "source": [
    "# Create the GroupBy object based on the \"Type 1\" column\n",
    "pokemon_group = pokemon_type.groupby([\"Type 1\"])\n",
    "\n",
    "# Calculate averages for combat stats using the .mean() method\n",
    "pokemon_comparison = pokemon_group.mean()\n",
    "pokemon_comparison"
   ]
  },
  {
   "cell_type": "code",
   "execution_count": null,
   "metadata": {},
   "outputs": [],
   "source": [
    "# Total number of points\n",
    "pokemon_comparison[\"Total\"] = pokemon_comparison[\"HP\"] + pokemon_comparison[\"Attack\"] + pokemon_comparison[\"Defense\"] + \\\n",
    "    pokemon_comparison[\"Sp. Atk\"] + \\\n",
    "    pokemon_comparison[\"Sp. Def\"] + pokemon_comparison[\"Speed\"]\n",
    "\n",
    "pokemon_comparison[\"Total\"]"
   ]
  },
  {
   "cell_type": "code",
   "execution_count": null,
   "metadata": {},
   "outputs": [],
   "source": [
    "# Sort by strongest Pokemon, and reset index\n",
    "strongest_pokemon = pokemon_comparison.sort_values([\"Total\"], ascending=False)\n",
    "strongest_pokemon.reset_index(inplace=True)\n",
    "strongest_pokemon"
   ]
  },
  {
   "cell_type": "code",
   "execution_count": null,
   "metadata": {},
   "outputs": [],
   "source": [
    "# Save output to Excel\n",
    "pokemon_comparison.to_excel(\"output/pokemon_rankings.xlsx\", index=False)"
   ]
  }
 ],
 "metadata": {
  "anaconda-cloud": {},
  "kernelspec": {
   "display_name": "Python [default]",
   "language": "python",
   "name": "python3"
  },
  "language_info": {
   "codemirror_mode": {
    "name": "ipython",
    "version": 3
   },
   "file_extension": ".py",
   "mimetype": "text/x-python",
   "name": "python",
   "nbconvert_exporter": "python",
   "pygments_lexer": "ipython3",
   "version": "3.6.5"
  }
 },
 "nbformat": 4,
 "nbformat_minor": 2
}
